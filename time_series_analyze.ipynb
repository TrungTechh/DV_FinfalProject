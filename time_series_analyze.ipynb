{
 "cells": [
  {
   "cell_type": "code",
   "execution_count": 114,
   "metadata": {},
   "outputs": [],
   "source": [
    "import pandas as pd\n",
    "import numpy as np\n",
    "\n",
    "from statsmodels.tsa.ar_model import AutoReg\n",
    "from statsmodels.tsa.stattools import adfuller\n",
    "from statsmodels.graphics.tsaplots import plot_acf, plot_pacf\n",
    "from statsmodels.stats.stattools import durbin_watson\n",
    "\n",
    "import matplotlib.pyplot as plt\n",
    "import matplotlib as mpl\n",
    "\n",
    "from sklearn.model_selection import train_test_split\n",
    "from sklearn.metrics import mean_squared_error\n",
    "from scipy import signal"
   ]
  },
  {
   "cell_type": "code",
   "execution_count": 80,
   "metadata": {},
   "outputs": [
    {
     "data": {
      "text/html": [
       "<div>\n",
       "<style scoped>\n",
       "    .dataframe tbody tr th:only-of-type {\n",
       "        vertical-align: middle;\n",
       "    }\n",
       "\n",
       "    .dataframe tbody tr th {\n",
       "        vertical-align: top;\n",
       "    }\n",
       "\n",
       "    .dataframe thead th {\n",
       "        text-align: right;\n",
       "    }\n",
       "</style>\n",
       "<table border=\"1\" class=\"dataframe\">\n",
       "  <thead>\n",
       "    <tr style=\"text-align: right;\">\n",
       "      <th></th>\n",
       "      <th>Country</th>\n",
       "      <th>Year</th>\n",
       "      <th>Status</th>\n",
       "      <th>Life expectancy</th>\n",
       "      <th>Adult Mortality</th>\n",
       "      <th>infant deaths</th>\n",
       "      <th>Alcohol</th>\n",
       "      <th>percentage expenditure</th>\n",
       "      <th>Hepatitis B</th>\n",
       "      <th>Measles</th>\n",
       "      <th>...</th>\n",
       "      <th>Polio</th>\n",
       "      <th>Total expenditure</th>\n",
       "      <th>Diphtheria</th>\n",
       "      <th>HIV/AIDS</th>\n",
       "      <th>GDP</th>\n",
       "      <th>Population</th>\n",
       "      <th>thinness 1-19 years</th>\n",
       "      <th>thinness 5-9 years</th>\n",
       "      <th>Income composition of resources</th>\n",
       "      <th>Schooling</th>\n",
       "    </tr>\n",
       "  </thead>\n",
       "  <tbody>\n",
       "    <tr>\n",
       "      <th>248</th>\n",
       "      <td>Belgium</td>\n",
       "      <td>2007</td>\n",
       "      <td>Developed</td>\n",
       "      <td>79.5</td>\n",
       "      <td>86.0</td>\n",
       "      <td>0</td>\n",
       "      <td>10.25</td>\n",
       "      <td>640.356092</td>\n",
       "      <td>94.000000</td>\n",
       "      <td>64</td>\n",
       "      <td>...</td>\n",
       "      <td>99.0</td>\n",
       "      <td>9.25</td>\n",
       "      <td>98.0</td>\n",
       "      <td>0.1</td>\n",
       "      <td>4443.831310</td>\n",
       "      <td>1.625700e+04</td>\n",
       "      <td>0.8</td>\n",
       "      <td>0.8</td>\n",
       "      <td>0.871</td>\n",
       "      <td>15.8</td>\n",
       "    </tr>\n",
       "    <tr>\n",
       "      <th>1600</th>\n",
       "      <td>Malaysia</td>\n",
       "      <td>2001</td>\n",
       "      <td>Developing</td>\n",
       "      <td>72.7</td>\n",
       "      <td>144.0</td>\n",
       "      <td>4</td>\n",
       "      <td>0.53</td>\n",
       "      <td>210.241700</td>\n",
       "      <td>95.000000</td>\n",
       "      <td>2198</td>\n",
       "      <td>...</td>\n",
       "      <td>95.0</td>\n",
       "      <td>3.40</td>\n",
       "      <td>96.0</td>\n",
       "      <td>0.1</td>\n",
       "      <td>3915.115460</td>\n",
       "      <td>2.369897e+06</td>\n",
       "      <td>9.7</td>\n",
       "      <td>9.4</td>\n",
       "      <td>0.725</td>\n",
       "      <td>11.9</td>\n",
       "    </tr>\n",
       "    <tr>\n",
       "      <th>927</th>\n",
       "      <td>Finland</td>\n",
       "      <td>2002</td>\n",
       "      <td>Developing</td>\n",
       "      <td>78.1</td>\n",
       "      <td>98.0</td>\n",
       "      <td>0</td>\n",
       "      <td>9.25</td>\n",
       "      <td>3099.357319</td>\n",
       "      <td>80.940461</td>\n",
       "      <td>0</td>\n",
       "      <td>...</td>\n",
       "      <td>95.0</td>\n",
       "      <td>7.81</td>\n",
       "      <td>98.0</td>\n",
       "      <td>0.1</td>\n",
       "      <td>26834.262500</td>\n",
       "      <td>5.259800e+04</td>\n",
       "      <td>0.9</td>\n",
       "      <td>0.8</td>\n",
       "      <td>0.863</td>\n",
       "      <td>18.0</td>\n",
       "    </tr>\n",
       "    <tr>\n",
       "      <th>1507</th>\n",
       "      <td>Libya</td>\n",
       "      <td>2014</td>\n",
       "      <td>Developing</td>\n",
       "      <td>72.4</td>\n",
       "      <td>143.0</td>\n",
       "      <td>2</td>\n",
       "      <td>0.01</td>\n",
       "      <td>0.000000</td>\n",
       "      <td>94.000000</td>\n",
       "      <td>372</td>\n",
       "      <td>...</td>\n",
       "      <td>94.0</td>\n",
       "      <td>4.97</td>\n",
       "      <td>94.0</td>\n",
       "      <td>0.1</td>\n",
       "      <td>7483.158469</td>\n",
       "      <td>1.275338e+07</td>\n",
       "      <td>5.7</td>\n",
       "      <td>5.5</td>\n",
       "      <td>0.730</td>\n",
       "      <td>13.4</td>\n",
       "    </tr>\n",
       "    <tr>\n",
       "      <th>2034</th>\n",
       "      <td>Philippines</td>\n",
       "      <td>2004</td>\n",
       "      <td>Developing</td>\n",
       "      <td>67.3</td>\n",
       "      <td>218.0</td>\n",
       "      <td>66</td>\n",
       "      <td>4.45</td>\n",
       "      <td>13.399051</td>\n",
       "      <td>48.000000</td>\n",
       "      <td>3025</td>\n",
       "      <td>...</td>\n",
       "      <td>85.0</td>\n",
       "      <td>3.23</td>\n",
       "      <td>88.0</td>\n",
       "      <td>0.1</td>\n",
       "      <td>179.371500</td>\n",
       "      <td>8.467849e+07</td>\n",
       "      <td>1.0</td>\n",
       "      <td>9.7</td>\n",
       "      <td>0.636</td>\n",
       "      <td>11.6</td>\n",
       "    </tr>\n",
       "    <tr>\n",
       "      <th>475</th>\n",
       "      <td>Cambodia</td>\n",
       "      <td>2004</td>\n",
       "      <td>Developing</td>\n",
       "      <td>61.5</td>\n",
       "      <td>253.0</td>\n",
       "      <td>19</td>\n",
       "      <td>1.38</td>\n",
       "      <td>8.386119</td>\n",
       "      <td>80.940461</td>\n",
       "      <td>352</td>\n",
       "      <td>...</td>\n",
       "      <td>86.0</td>\n",
       "      <td>6.43</td>\n",
       "      <td>85.0</td>\n",
       "      <td>1.7</td>\n",
       "      <td>48.615184</td>\n",
       "      <td>1.363377e+06</td>\n",
       "      <td>11.6</td>\n",
       "      <td>11.7</td>\n",
       "      <td>0.458</td>\n",
       "      <td>9.7</td>\n",
       "    </tr>\n",
       "    <tr>\n",
       "      <th>749</th>\n",
       "      <td>Denmark</td>\n",
       "      <td>2003</td>\n",
       "      <td>Developed</td>\n",
       "      <td>77.3</td>\n",
       "      <td>11.0</td>\n",
       "      <td>0</td>\n",
       "      <td>11.54</td>\n",
       "      <td>650.981354</td>\n",
       "      <td>80.940461</td>\n",
       "      <td>0</td>\n",
       "      <td>...</td>\n",
       "      <td>96.0</td>\n",
       "      <td>9.51</td>\n",
       "      <td>96.0</td>\n",
       "      <td>0.1</td>\n",
       "      <td>4458.776400</td>\n",
       "      <td>5.395740e+05</td>\n",
       "      <td>1.2</td>\n",
       "      <td>1.0</td>\n",
       "      <td>0.882</td>\n",
       "      <td>16.3</td>\n",
       "    </tr>\n",
       "    <tr>\n",
       "      <th>1955</th>\n",
       "      <td>Pakistan</td>\n",
       "      <td>2002</td>\n",
       "      <td>Developing</td>\n",
       "      <td>63.2</td>\n",
       "      <td>187.0</td>\n",
       "      <td>371</td>\n",
       "      <td>0.01</td>\n",
       "      <td>22.393876</td>\n",
       "      <td>80.940461</td>\n",
       "      <td>3903</td>\n",
       "      <td>...</td>\n",
       "      <td>71.0</td>\n",
       "      <td>2.76</td>\n",
       "      <td>68.0</td>\n",
       "      <td>0.1</td>\n",
       "      <td>499.863300</td>\n",
       "      <td>1.446541e+08</td>\n",
       "      <td>21.8</td>\n",
       "      <td>22.2</td>\n",
       "      <td>0.457</td>\n",
       "      <td>5.5</td>\n",
       "    </tr>\n",
       "    <tr>\n",
       "      <th>1802</th>\n",
       "      <td>Namibia</td>\n",
       "      <td>2009</td>\n",
       "      <td>Developing</td>\n",
       "      <td>62.4</td>\n",
       "      <td>36.0</td>\n",
       "      <td>3</td>\n",
       "      <td>7.99</td>\n",
       "      <td>575.674807</td>\n",
       "      <td>80.940461</td>\n",
       "      <td>4076</td>\n",
       "      <td>...</td>\n",
       "      <td>83.0</td>\n",
       "      <td>8.50</td>\n",
       "      <td>83.0</td>\n",
       "      <td>8.7</td>\n",
       "      <td>4153.497885</td>\n",
       "      <td>2.137400e+04</td>\n",
       "      <td>1.9</td>\n",
       "      <td>1.9</td>\n",
       "      <td>0.598</td>\n",
       "      <td>11.4</td>\n",
       "    </tr>\n",
       "    <tr>\n",
       "      <th>202</th>\n",
       "      <td>Bangladesh</td>\n",
       "      <td>2005</td>\n",
       "      <td>Developing</td>\n",
       "      <td>67.8</td>\n",
       "      <td>155.0</td>\n",
       "      <td>174</td>\n",
       "      <td>0.01</td>\n",
       "      <td>38.054620</td>\n",
       "      <td>45.000000</td>\n",
       "      <td>25934</td>\n",
       "      <td>...</td>\n",
       "      <td>94.0</td>\n",
       "      <td>2.68</td>\n",
       "      <td>93.0</td>\n",
       "      <td>0.1</td>\n",
       "      <td>484.155471</td>\n",
       "      <td>1.434311e+07</td>\n",
       "      <td>19.9</td>\n",
       "      <td>2.5</td>\n",
       "      <td>0.499</td>\n",
       "      <td>8.2</td>\n",
       "    </tr>\n",
       "  </tbody>\n",
       "</table>\n",
       "<p>10 rows × 22 columns</p>\n",
       "</div>"
      ],
      "text/plain": [
       "          Country  Year      Status  Life expectancy  Adult Mortality  \\\n",
       "248       Belgium  2007   Developed             79.5             86.0   \n",
       "1600     Malaysia  2001  Developing             72.7            144.0   \n",
       "927       Finland  2002  Developing             78.1             98.0   \n",
       "1507        Libya  2014  Developing             72.4            143.0   \n",
       "2034  Philippines  2004  Developing             67.3            218.0   \n",
       "475      Cambodia  2004  Developing             61.5            253.0   \n",
       "749       Denmark  2003   Developed             77.3             11.0   \n",
       "1955     Pakistan  2002  Developing             63.2            187.0   \n",
       "1802      Namibia  2009  Developing             62.4             36.0   \n",
       "202    Bangladesh  2005  Developing             67.8            155.0   \n",
       "\n",
       "      infant deaths  Alcohol  percentage expenditure  Hepatitis B  Measles  \\\n",
       "248               0    10.25              640.356092    94.000000       64   \n",
       "1600              4     0.53              210.241700    95.000000     2198   \n",
       "927               0     9.25             3099.357319    80.940461        0   \n",
       "1507              2     0.01                0.000000    94.000000      372   \n",
       "2034             66     4.45               13.399051    48.000000     3025   \n",
       "475              19     1.38                8.386119    80.940461      352   \n",
       "749               0    11.54              650.981354    80.940461        0   \n",
       "1955            371     0.01               22.393876    80.940461     3903   \n",
       "1802              3     7.99              575.674807    80.940461     4076   \n",
       "202             174     0.01               38.054620    45.000000    25934   \n",
       "\n",
       "      ...  Polio  Total expenditure  Diphtheria  HIV/AIDS           GDP  \\\n",
       "248   ...   99.0               9.25        98.0       0.1   4443.831310   \n",
       "1600  ...   95.0               3.40        96.0       0.1   3915.115460   \n",
       "927   ...   95.0               7.81        98.0       0.1  26834.262500   \n",
       "1507  ...   94.0               4.97        94.0       0.1   7483.158469   \n",
       "2034  ...   85.0               3.23        88.0       0.1    179.371500   \n",
       "475   ...   86.0               6.43        85.0       1.7     48.615184   \n",
       "749   ...   96.0               9.51        96.0       0.1   4458.776400   \n",
       "1955  ...   71.0               2.76        68.0       0.1    499.863300   \n",
       "1802  ...   83.0               8.50        83.0       8.7   4153.497885   \n",
       "202   ...   94.0               2.68        93.0       0.1    484.155471   \n",
       "\n",
       "        Population  thinness 1-19 years  thinness 5-9 years  \\\n",
       "248   1.625700e+04                  0.8                 0.8   \n",
       "1600  2.369897e+06                  9.7                 9.4   \n",
       "927   5.259800e+04                  0.9                 0.8   \n",
       "1507  1.275338e+07                  5.7                 5.5   \n",
       "2034  8.467849e+07                  1.0                 9.7   \n",
       "475   1.363377e+06                 11.6                11.7   \n",
       "749   5.395740e+05                  1.2                 1.0   \n",
       "1955  1.446541e+08                 21.8                22.2   \n",
       "1802  2.137400e+04                  1.9                 1.9   \n",
       "202   1.434311e+07                 19.9                 2.5   \n",
       "\n",
       "      Income composition of resources  Schooling  \n",
       "248                             0.871       15.8  \n",
       "1600                            0.725       11.9  \n",
       "927                             0.863       18.0  \n",
       "1507                            0.730       13.4  \n",
       "2034                            0.636       11.6  \n",
       "475                             0.458        9.7  \n",
       "749                             0.882       16.3  \n",
       "1955                            0.457        5.5  \n",
       "1802                            0.598       11.4  \n",
       "202                             0.499        8.2  \n",
       "\n",
       "[10 rows x 22 columns]"
      ]
     },
     "execution_count": 80,
     "metadata": {},
     "output_type": "execute_result"
    }
   ],
   "source": [
    "df = pd.read_csv('LE_cleaned_data.csv')\n",
    "df.sample(10)"
   ]
  },
  {
   "attachments": {},
   "cell_type": "markdown",
   "metadata": {},
   "source": [
    "# Analysis"
   ]
  },
  {
   "attachments": {},
   "cell_type": "markdown",
   "metadata": {},
   "source": [
    "## Tuổi thọ có tính ổn định thống kê (H1) hay không (Stationarity)?"
   ]
  },
  {
   "cell_type": "code",
   "execution_count": 82,
   "metadata": {},
   "outputs": [
    {
     "data": {
      "text/plain": [
       "<AxesSubplot:xlabel='Year'>"
      ]
     },
     "execution_count": 82,
     "metadata": {},
     "output_type": "execute_result"
    },
    {
     "data": {
      "image/png": "[encoded data removed]",
      "text/plain": [
       "<Figure size 720x360 with 1 Axes>"
      ]
     },
     "metadata": {
      "needs_background": "light"
     },
     "output_type": "display_data"
    }
   ],
   "source": [
    "df.loc[df.Country == 'Viet Nam']\n",
    "time = df.pivot(index='Year', columns='Country', values='Life expectancy')\n",
    "vn = time['Viet Nam']\n",
    "vn.plot(kind='line', figsize=(10, 5))"
   ]
  },
  {
   "cell_type": "code",
   "execution_count": 81,
   "metadata": {},
   "outputs": [
    {
     "name": "stdout",
     "output_type": "stream",
     "text": [
      "P-value:  0.5180114060633305\n"
     ]
    }
   ],
   "source": [
    "test = vn.reset_index()\n",
    "df_station = adfuller(test['Viet Nam'], autolag='AIC')\n",
    "print('P-value: ', df_station[1])"
   ]
  },
  {
   "attachments": {},
   "cell_type": "markdown",
   "metadata": {},
   "source": [
    "Với giá trị p-value > 0.05, ta bác bỏ H1, nên dữ liệu không có tính ổn định thống kê theo thời gian."
   ]
  },
  {
   "cell_type": "code",
   "execution_count": 83,
   "metadata": {},
   "outputs": [],
   "source": [
    "time = time.T"
   ]
  },
  {
   "cell_type": "code",
   "execution_count": 84,
   "metadata": {},
   "outputs": [
    {
     "data": {
      "text/plain": [
       "<AxesSubplot:title={'center':'World Life Expectancy'}, xlabel='Year'>"
      ]
     },
     "execution_count": 84,
     "metadata": {},
     "output_type": "execute_result"
    },
    {
     "data": {
      "image/png": "[encoded data removed]",
      "text/plain": [
       "<Figure size 1440x720 with 1 Axes>"
      ]
     },
     "metadata": {
      "needs_background": "light"
     },
     "output_type": "display_data"
    }
   ],
   "source": [
    "world = time.describe().round(2)\n",
    "world = world.loc[world.index == 'mean']\n",
    "world = world.T.rename({'mean': 'World'}, axis=1)\n",
    "merged = world.reset_index().merge(vn.reset_index(),left_on = 'Year', right_on = 'Year', how = 'inner')\n",
    "merged.set_index('Year', inplace=True)\n",
    "merged.plot(kind='line', figsize=(20, 10), title='World Life Expectancy')"
   ]
  },
  {
   "attachments": {},
   "cell_type": "markdown",
   "metadata": {},
   "source": [
    "Kết luận:\n",
    "- Dữ liệu có xu thế tăng theo thời gian.\n",
    "- Dữ liệu không có tính ổn định thống kê theo thời gian."
   ]
  },
  {
   "attachments": {},
   "cell_type": "markdown",
   "metadata": {},
   "source": [
    "## Phân tích yếu tố chu kỳ (Cycling)"
   ]
  },
  {
   "attachments": {},
   "cell_type": "markdown",
   "metadata": {},
   "source": [
    "Tuổi thọ có yếu tố chu kỳ không?"
   ]
  },
  {
   "cell_type": "code",
   "execution_count": 91,
   "metadata": {},
   "outputs": [
    {
     "data": {
      "image/png": "[encoded data removed]",
      "text/plain": [
       "<Figure size 720x432 with 1 Axes>"
      ]
     },
     "metadata": {
      "needs_background": "light"
     },
     "output_type": "display_data"
    }
   ],
   "source": [
    "acf_cal = world.reset_index().rename(columns={'World':'Life Expectancy'})\n",
    "mpl.rc(\"figure\", figsize=(10, 6))\n",
    "plot_acf(acf_cal[\"Life Expectancy\"], lags = 15);"
   ]
  },
  {
   "cell_type": "code",
   "execution_count": 107,
   "metadata": {},
   "outputs": [
    {
     "data": {
      "image/png": "[encoded data removed]",
      "text/plain": [
       "<Figure size 720x432 with 1 Axes>"
      ]
     },
     "metadata": {
      "needs_background": "light"
     },
     "output_type": "display_data"
    }
   ],
   "source": [
    "plot_pacf(acf_cal[\"Life Expectancy\"], lags = 7, method='ywm');"
   ]
  },
  {
   "attachments": {},
   "cell_type": "markdown",
   "metadata": {},
   "source": [
    "Kiểm định Durbin-Watson cho sự tự tương quan."
   ]
  },
  {
   "cell_type": "code",
   "execution_count": 110,
   "metadata": {},
   "outputs": [
    {
     "data": {
      "text/plain": [
       "2.5885519199508616e-05"
      ]
     },
     "execution_count": 110,
     "metadata": {},
     "output_type": "execute_result"
    }
   ],
   "source": [
    "gfg = durbin_watson(acf_cal[\"Life Expectancy\"])\n",
    "gfg"
   ]
  },
  {
   "attachments": {},
   "cell_type": "markdown",
   "metadata": {},
   "source": [
    "Kết luận: \n",
    "- tuổi thọ không có yếu tố chu kỳ hay mùa vụ(ít nhất trên tập dữ liệu này).\n",
    "- Tuổi thọ có sự tự tương quan dương."
   ]
  },
  {
   "attachments": {},
   "cell_type": "markdown",
   "metadata": {},
   "source": [
    "## Loại bỏ xu thế (Detrend)"
   ]
  },
  {
   "cell_type": "code",
   "execution_count": 102,
   "metadata": {},
   "outputs": [
    {
     "data": {
      "image/png": "[encoded data removed]",
      "text/plain": [
       "<Figure size 720x432 with 1 Axes>"
      ]
     },
     "metadata": {
      "needs_background": "light"
     },
     "output_type": "display_data"
    }
   ],
   "source": [
    "temp = world.reset_index().rename(columns={'World':'Life Expectancy'})\n",
    "\n",
    "detr = signal.detrend(temp['Life Expectancy'])\n",
    "detr = pd.DataFrame({'LE detrend':detr},index = world.index)\n",
    "\n",
    "temp.set_index('Year', inplace=True)\n",
    "plt.figure(figsize=(10, 6))\n",
    "plt.plot(temp[\"Life Expectancy\"], label=temp.columns[0])\n",
    "plt.plot(detr, label=detr.columns[0])\n",
    "plt.xticks(rotation=45)\n",
    "plt.xlabel(\"Time\", fontsize=12)\n",
    "plt.ylabel(\"Life Expentancy\", fontsize=12)\n",
    "plt.legend(fontsize=12)\n",
    "plt.title(\"Life Expectancy from 2000 to 2015\", fontsize=18)\n",
    "plt.show()"
   ]
  },
  {
   "attachments": {},
   "cell_type": "markdown",
   "metadata": {},
   "source": [
    "## Phân rã mùa vụ (Decompose)"
   ]
  },
  {
   "attachments": {},
   "cell_type": "markdown",
   "metadata": {},
   "source": [
    "Vì không có yếu tố mùa vụ nên kh biết nên đưa vô kh nữa :v"
   ]
  },
  {
   "cell_type": "code",
   "execution_count": 105,
   "metadata": {},
   "outputs": [],
   "source": [
    "# from statsmodels.tsa.seasonal import seasonal_decompose\n",
    "\n",
    "# temp = temp.reset_index()\n",
    "# temp['Year'] = pd.to_datetime(temp['Year'], format='%Y')\n",
    "# temp = temp.set_index('Year')\n",
    "# temp\n",
    "# result = seasonal_decompose(temp['Life Expectancy'], model='additive')\n",
    "# result.plot()\n",
    "# plt.show()"
   ]
  },
  {
   "attachments": {},
   "cell_type": "markdown",
   "metadata": {},
   "source": [
    "# Autoregression Model (AR)"
   ]
  },
  {
   "attachments": {},
   "cell_type": "markdown",
   "metadata": {},
   "source": [
    "Thực hiện mô hình, dựa trên yếu tố xu thế, nhóm em nhận thấy có thể triển khai thử mô hình AR(1) để dự đoán tuổi thọ. Về mặt ý nghĩa, mô hình AR(1) tương tự như mô hình hồi quy tuyến tính. Tuy nhiên, mô hình AR(1) có thêm yếu tố tự tương quan giữa các giá trị quan sát liền trước và liền sau để có thể dự đoán cho năm tiếp theo."
   ]
  },
  {
   "attachments": {},
   "cell_type": "markdown",
   "metadata": {},
   "source": [
    "\\begin{equation}\n",
    "x_t = \\theta_0 + \\theta_1 x_{t-1} + \\theta_2 x_{t-2}+ ... + \\epsilon_t\n",
    "\\end{equation}\n",
    "\n",
    "với t là thời gian, $\\theta$ là hệ số hồi quy, $\\epsilon$ là nhiễu."
   ]
  },
  {
   "cell_type": "code",
   "execution_count": 119,
   "metadata": {},
   "outputs": [
    {
     "name": "stdout",
     "output_type": "stream",
     "text": [
      "(12, 1) (4, 1)\n",
      "                            AutoReg Model Results                             \n",
      "==============================================================================\n",
      "Dep. Variable:                  World   No. Observations:                   12\n",
      "Model:                     AutoReg(1)   Log Likelihood                   4.471\n",
      "Method:               Conditional MLE   S.D. of innovations              0.161\n",
      "Date:                Wed, 17 May 2023   AIC                             -2.941\n",
      "Time:                        13:49:26   BIC                             -1.747\n",
      "Sample:                             1   HQIC                            -3.693\n",
      "                                   12                                         \n",
      "==============================================================================\n",
      "                 coef    std err          z      P>|z|      [0.025      0.975]\n",
      "------------------------------------------------------------------------------\n",
      "const         -2.6123      2.991     -0.874      0.382      -8.474       3.249\n",
      "World.L1       1.0434      0.044     23.844      0.000       0.958       1.129\n",
      "                                    Roots                                    \n",
      "=============================================================================\n",
      "                  Real          Imaginary           Modulus         Frequency\n",
      "-----------------------------------------------------------------------------\n",
      "AR.1            0.9584           +0.0000j            0.9584            0.0000\n",
      "-----------------------------------------------------------------------------\n"
     ]
    },
    {
     "name": "stderr",
     "output_type": "stream",
     "text": [
      "c:\\Users\\doana\\anaconda3\\lib\\site-packages\\statsmodels\\tsa\\base\\tsa_model.py:471: ValueWarning: An unsupported index was provided and will be ignored when e.g. forecasting.\n",
      "  self._init_dates(dates, freq)\n"
     ]
    }
   ],
   "source": [
    "train, test = train_test_split(world, test_size=0.2, shuffle=False)\n",
    "print(train.shape, test.shape)\n",
    "\n",
    "ar_model = AutoReg(train, lags=1).fit()\n",
    "print(ar_model.summary())"
   ]
  },
  {
   "cell_type": "code",
   "execution_count": 144,
   "metadata": {},
   "outputs": [
    {
     "name": "stderr",
     "output_type": "stream",
     "text": [
      "c:\\Users\\doana\\anaconda3\\lib\\site-packages\\statsmodels\\tsa\\base\\tsa_model.py:834: ValueWarning: No supported index is available. Prediction results will be given with an integer index beginning at `start`.\n",
      "  return get_prediction_index(\n"
     ]
    },
    {
     "data": {
      "image/png": "[encoded data removed]",
      "text/plain": [
       "<Figure size 720x432 with 1 Axes>"
      ]
     },
     "metadata": {
      "needs_background": "light"
     },
     "output_type": "display_data"
    }
   ],
   "source": [
    "pred = ar_model.predict(start = len(train), end = (len(world)-1));\n",
    "# pred = pd.DataFrame({'World': pred.values}, index = test.index)\n",
    "pred = pd.DataFrame({'World predicted': pred.values}, index = test.index)\n",
    "\n",
    "# merge_pred = pd.concat([train, pred], axis=0).rename(columns={'World':'World predicted'})\n",
    "comp = pd.concat([test, pred], axis=1)\n",
    "comp.plot(kind='line');"
   ]
  },
  {
   "attachments": {},
   "cell_type": "markdown",
   "metadata": {},
   "source": [
    "Độ lỗi của AR(1) trên tập test"
   ]
  },
  {
   "cell_type": "code",
   "execution_count": 145,
   "metadata": {},
   "outputs": [
    {
     "name": "stdout",
     "output_type": "stream",
     "text": [
      "MSE:  0.36758960734159785\n"
     ]
    }
   ],
   "source": [
    "print('MSE: ', mean_squared_error(test, pred))"
   ]
  },
  {
   "attachments": {},
   "cell_type": "markdown",
   "metadata": {},
   "source": [
    "Dựa trên kết quả MSE, ta có thể sử dụng AR(1) model để dự đoán tuổi thọ."
   ]
  },
  {
   "cell_type": "code",
   "execution_count": 171,
   "metadata": {},
   "outputs": [
    {
     "name": "stderr",
     "output_type": "stream",
     "text": [
      "c:\\Users\\doana\\anaconda3\\lib\\site-packages\\statsmodels\\tsa\\base\\tsa_model.py:471: ValueWarning: An unsupported index was provided and will be ignored when e.g. forecasting.\n",
      "  self._init_dates(dates, freq)\n"
     ]
    }
   ],
   "source": [
    "ar_model = AutoReg(world, lags=1).fit()"
   ]
  },
  {
   "attachments": {},
   "cell_type": "markdown",
   "metadata": {},
   "source": [
    "## Dự đoán kết quả trên thế giới vào năm 2016 và 2017"
   ]
  },
  {
   "cell_type": "code",
   "execution_count": 172,
   "metadata": {},
   "outputs": [
    {
     "name": "stderr",
     "output_type": "stream",
     "text": [
      "c:\\Users\\doana\\anaconda3\\lib\\site-packages\\statsmodels\\tsa\\base\\tsa_model.py:834: ValueWarning: No supported index is available. Prediction results will be given with an integer index beginning at `start`.\n",
      "  return get_prediction_index(\n"
     ]
    },
    {
     "data": {
      "image/png": "[encoded data removed]",
      "text/plain": [
       "<Figure size 720x432 with 1 Axes>"
      ]
     },
     "metadata": {
      "needs_background": "light"
     },
     "output_type": "display_data"
    }
   ],
   "source": [
    "pred = ar_model.predict(start = len(world), end = (len(world)+1));\n",
    "ar_model.plot_predict(start = 1, end = (len(world)+1), dynamic=False);"
   ]
  },
  {
   "cell_type": "code",
   "execution_count": 173,
   "metadata": {},
   "outputs": [
    {
     "data": {
      "text/plain": [
       "16    71.917447\n",
       "17    72.211733\n",
       "dtype: float64"
      ]
     },
     "execution_count": 173,
     "metadata": {},
     "output_type": "execute_result"
    }
   ],
   "source": [
    "pred"
   ]
  },
  {
   "attachments": {},
   "cell_type": "markdown",
   "metadata": {},
   "source": [
    "Kết quả dự đoán trung bình tuổi thọ trên toàn thế giới vào năm 2016 là 71.91 tuổi, vào năm 2017 là 72.21 tuổi. Với độ trễ là 1."
   ]
  },
  {
   "attachments": {},
   "cell_type": "markdown",
   "metadata": {},
   "source": [
    "## Dự đoán tuổi cho Việt Nam vào năm 2016 và 2017"
   ]
  },
  {
   "cell_type": "code",
   "execution_count": 174,
   "metadata": {},
   "outputs": [
    {
     "name": "stderr",
     "output_type": "stream",
     "text": [
      "c:\\Users\\doana\\anaconda3\\lib\\site-packages\\statsmodels\\tsa\\base\\tsa_model.py:471: ValueWarning: An unsupported index was provided and will be ignored when e.g. forecasting.\n",
      "  self._init_dates(dates, freq)\n",
      "c:\\Users\\doana\\anaconda3\\lib\\site-packages\\statsmodels\\tsa\\base\\tsa_model.py:834: ValueWarning: No supported index is available. Prediction results will be given with an integer index beginning at `start`.\n",
      "  return get_prediction_index(\n"
     ]
    },
    {
     "data": {
      "image/png": "[encoded data removed]",
      "text/plain": [
       "<Figure size 720x432 with 1 Axes>"
      ]
     },
     "metadata": {
      "needs_background": "light"
     },
     "output_type": "display_data"
    }
   ],
   "source": [
    "ar_model = AutoReg(vn, lags=1).fit()\n",
    "pred_vn = ar_model.predict(start = len(vn), end = (len(vn)+1));\n",
    "ar_model.plot_predict(start = 1, end = (len(vn)+1), dynamic=False);"
   ]
  },
  {
   "cell_type": "code",
   "execution_count": 175,
   "metadata": {},
   "outputs": [
    {
     "data": {
      "text/plain": [
       "16    76.139772\n",
       "17    76.275955\n",
       "dtype: float64"
      ]
     },
     "execution_count": 175,
     "metadata": {},
     "output_type": "execute_result"
    }
   ],
   "source": [
    "pred_vn"
   ]
  },
  {
   "attachments": {},
   "cell_type": "markdown",
   "metadata": {},
   "source": [
    "Dự đoán tuổi thọ cho Việt Nam năm 2016 là 76.14 tuổi và 2017 là 76.28 tuổi."
   ]
  },
  {
   "attachments": {},
   "cell_type": "markdown",
   "metadata": {},
   "source": [
    "Nhận xét: Có thể thấy tuổi thọ Việt Nam cao hơn so với tuổi thọ trung bình trên toàn thế giới."
   ]
  }
 ],
 "metadata": {
  "kernelspec": {
   "display_name": "base",
   "language": "python",
   "name": "python3"
  },
  "language_info": {
   "codemirror_mode": {
    "name": "ipython",
    "version": 3
   },
   "file_extension": ".py",
   "mimetype": "text/x-python",
   "name": "python",
   "nbconvert_exporter": "python",
   "pygments_lexer": "ipython3",
   "version": "3.9.12"
  },
  "orig_nbformat": 4
 },
 "nbformat": 4,
 "nbformat_minor": 2
}
