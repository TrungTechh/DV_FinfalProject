{
 "cells": [
  {
   "cell_type": "code",
   "execution_count": 186,
   "metadata": {},
   "outputs": [],
   "source": [
    "import pandas as pd\n",
    "import numpy as np\n",
    "\n",
    "from statsmodels.tsa.ar_model import AutoReg\n",
    "from statsmodels.tsa.stattools import adfuller\n",
    "from statsmodels.graphics.tsaplots import plot_acf, plot_pacf\n",
    "from statsmodels.stats.stattools import durbin_watson\n",
    "\n",
    "import matplotlib.pyplot as plt\n",
    "import matplotlib as mpl\n",
    "\n",
    "from sklearn.model_selection import train_test_split\n",
    "from sklearn.metrics import mean_squared_error\n",
    "from scipy import signal"
   ]
  },
  {
   "cell_type": "code",
   "execution_count": 225,
   "metadata": {},
   "outputs": [
    {
     "data": {
      "text/html": [
       "<div>\n",
       "<style scoped>\n",
       "    .dataframe tbody tr th:only-of-type {\n",
       "        vertical-align: middle;\n",
       "    }\n",
       "\n",
       "    .dataframe tbody tr th {\n",
       "        vertical-align: top;\n",
       "    }\n",
       "\n",
       "    .dataframe thead th {\n",
       "        text-align: right;\n",
       "    }\n",
       "</style>\n",
       "<table border=\"1\" class=\"dataframe\">\n",
       "  <thead>\n",
       "    <tr style=\"text-align: right;\">\n",
       "      <th></th>\n",
       "      <th>Country</th>\n",
       "      <th>Year</th>\n",
       "      <th>Status</th>\n",
       "      <th>Life expectancy</th>\n",
       "      <th>Adult Mortality</th>\n",
       "      <th>infant deaths</th>\n",
       "      <th>Alcohol</th>\n",
       "      <th>percentage expenditure</th>\n",
       "      <th>Hepatitis B</th>\n",
       "      <th>Measles</th>\n",
       "      <th>...</th>\n",
       "      <th>Polio</th>\n",
       "      <th>Total expenditure</th>\n",
       "      <th>Diphtheria</th>\n",
       "      <th>HIV/AIDS</th>\n",
       "      <th>GDP</th>\n",
       "      <th>Population</th>\n",
       "      <th>thinness 1-19 years</th>\n",
       "      <th>thinness 5-9 years</th>\n",
       "      <th>Income composition of resources</th>\n",
       "      <th>Schooling</th>\n",
       "    </tr>\n",
       "  </thead>\n",
       "  <tbody>\n",
       "    <tr>\n",
       "      <th>1190</th>\n",
       "      <td>India</td>\n",
       "      <td>2011-01-01</td>\n",
       "      <td>Developing</td>\n",
       "      <td>66.8</td>\n",
       "      <td>193.0</td>\n",
       "      <td>1100</td>\n",
       "      <td>3.000000</td>\n",
       "      <td>64.605901</td>\n",
       "      <td>44.000000</td>\n",
       "      <td>33634</td>\n",
       "      <td>...</td>\n",
       "      <td>79.000000</td>\n",
       "      <td>4.33000</td>\n",
       "      <td>82.000000</td>\n",
       "      <td>0.2</td>\n",
       "      <td>1461.671957</td>\n",
       "      <td>124723629.0</td>\n",
       "      <td>26.900000</td>\n",
       "      <td>27.700000</td>\n",
       "      <td>0.580</td>\n",
       "      <td>10.8</td>\n",
       "    </tr>\n",
       "    <tr>\n",
       "      <th>486</th>\n",
       "      <td>Cameroon</td>\n",
       "      <td>2009-01-01</td>\n",
       "      <td>Developing</td>\n",
       "      <td>54.8</td>\n",
       "      <td>373.0</td>\n",
       "      <td>54</td>\n",
       "      <td>5.890000</td>\n",
       "      <td>9.042541</td>\n",
       "      <td>8.000000</td>\n",
       "      <td>251</td>\n",
       "      <td>...</td>\n",
       "      <td>79.000000</td>\n",
       "      <td>5.70000</td>\n",
       "      <td>8.000000</td>\n",
       "      <td>6.3</td>\n",
       "      <td>123.195380</td>\n",
       "      <td>19432541.0</td>\n",
       "      <td>6.300000</td>\n",
       "      <td>6.300000</td>\n",
       "      <td>0.473</td>\n",
       "      <td>9.2</td>\n",
       "    </tr>\n",
       "    <tr>\n",
       "      <th>1697</th>\n",
       "      <td>Mexico</td>\n",
       "      <td>2001-01-01</td>\n",
       "      <td>Developing</td>\n",
       "      <td>75.0</td>\n",
       "      <td>126.0</td>\n",
       "      <td>52</td>\n",
       "      <td>4.860000</td>\n",
       "      <td>13.311095</td>\n",
       "      <td>97.000000</td>\n",
       "      <td>3</td>\n",
       "      <td>...</td>\n",
       "      <td>97.000000</td>\n",
       "      <td>5.35000</td>\n",
       "      <td>97.000000</td>\n",
       "      <td>0.1</td>\n",
       "      <td>731.378864</td>\n",
       "      <td>136768.0</td>\n",
       "      <td>1.900000</td>\n",
       "      <td>1.900000</td>\n",
       "      <td>0.700</td>\n",
       "      <td>11.6</td>\n",
       "    </tr>\n",
       "    <tr>\n",
       "      <th>2424</th>\n",
       "      <td>South Sudan</td>\n",
       "      <td>2000-01-01</td>\n",
       "      <td>Developing</td>\n",
       "      <td>48.9</td>\n",
       "      <td>38.0</td>\n",
       "      <td>31</td>\n",
       "      <td>4.602861</td>\n",
       "      <td>0.000000</td>\n",
       "      <td>80.940461</td>\n",
       "      <td>0</td>\n",
       "      <td>...</td>\n",
       "      <td>82.550188</td>\n",
       "      <td>5.93819</td>\n",
       "      <td>82.324084</td>\n",
       "      <td>2.7</td>\n",
       "      <td>7483.158469</td>\n",
       "      <td>67656.0</td>\n",
       "      <td>4.839704</td>\n",
       "      <td>4.870317</td>\n",
       "      <td>0.000</td>\n",
       "      <td>0.0</td>\n",
       "    </tr>\n",
       "    <tr>\n",
       "      <th>568</th>\n",
       "      <td>China</td>\n",
       "      <td>2007-01-01</td>\n",
       "      <td>Developing</td>\n",
       "      <td>74.4</td>\n",
       "      <td>96.0</td>\n",
       "      <td>285</td>\n",
       "      <td>3.880000</td>\n",
       "      <td>312.662482</td>\n",
       "      <td>92.000000</td>\n",
       "      <td>109023</td>\n",
       "      <td>...</td>\n",
       "      <td>94.000000</td>\n",
       "      <td>4.32000</td>\n",
       "      <td>93.000000</td>\n",
       "      <td>0.1</td>\n",
       "      <td>2695.366223</td>\n",
       "      <td>1317885.0</td>\n",
       "      <td>4.700000</td>\n",
       "      <td>4.100000</td>\n",
       "      <td>0.659</td>\n",
       "      <td>11.4</td>\n",
       "    </tr>\n",
       "    <tr>\n",
       "      <th>1480</th>\n",
       "      <td>Lesotho</td>\n",
       "      <td>2009-01-01</td>\n",
       "      <td>Developing</td>\n",
       "      <td>49.4</td>\n",
       "      <td>566.0</td>\n",
       "      <td>4</td>\n",
       "      <td>2.750000</td>\n",
       "      <td>104.314473</td>\n",
       "      <td>91.000000</td>\n",
       "      <td>0</td>\n",
       "      <td>...</td>\n",
       "      <td>89.000000</td>\n",
       "      <td>9.80000</td>\n",
       "      <td>91.000000</td>\n",
       "      <td>18.2</td>\n",
       "      <td>923.136931</td>\n",
       "      <td>21929.0</td>\n",
       "      <td>7.600000</td>\n",
       "      <td>7.400000</td>\n",
       "      <td>0.453</td>\n",
       "      <td>10.8</td>\n",
       "    </tr>\n",
       "    <tr>\n",
       "      <th>2039</th>\n",
       "      <td>Poland</td>\n",
       "      <td>2015-01-01</td>\n",
       "      <td>Developed</td>\n",
       "      <td>77.5</td>\n",
       "      <td>117.0</td>\n",
       "      <td>2</td>\n",
       "      <td>4.602861</td>\n",
       "      <td>0.000000</td>\n",
       "      <td>96.000000</td>\n",
       "      <td>0</td>\n",
       "      <td>...</td>\n",
       "      <td>92.000000</td>\n",
       "      <td>5.93819</td>\n",
       "      <td>98.000000</td>\n",
       "      <td>0.1</td>\n",
       "      <td>12565.987600</td>\n",
       "      <td>37986412.0</td>\n",
       "      <td>1.900000</td>\n",
       "      <td>2.000000</td>\n",
       "      <td>0.852</td>\n",
       "      <td>16.4</td>\n",
       "    </tr>\n",
       "    <tr>\n",
       "      <th>1878</th>\n",
       "      <td>Niger</td>\n",
       "      <td>2014-01-01</td>\n",
       "      <td>Developing</td>\n",
       "      <td>61.4</td>\n",
       "      <td>223.0</td>\n",
       "      <td>49</td>\n",
       "      <td>0.010000</td>\n",
       "      <td>3.304040</td>\n",
       "      <td>68.000000</td>\n",
       "      <td>1142</td>\n",
       "      <td>...</td>\n",
       "      <td>67.000000</td>\n",
       "      <td>5.82000</td>\n",
       "      <td>68.000000</td>\n",
       "      <td>0.5</td>\n",
       "      <td>43.646498</td>\n",
       "      <td>19148219.0</td>\n",
       "      <td>9.800000</td>\n",
       "      <td>9.600000</td>\n",
       "      <td>0.345</td>\n",
       "      <td>5.3</td>\n",
       "    </tr>\n",
       "    <tr>\n",
       "      <th>846</th>\n",
       "      <td>Equatorial Guinea</td>\n",
       "      <td>2003-01-01</td>\n",
       "      <td>Developing</td>\n",
       "      <td>53.8</td>\n",
       "      <td>334.0</td>\n",
       "      <td>3</td>\n",
       "      <td>7.130000</td>\n",
       "      <td>309.783459</td>\n",
       "      <td>80.940461</td>\n",
       "      <td>18</td>\n",
       "      <td>...</td>\n",
       "      <td>46.000000</td>\n",
       "      <td>2.23000</td>\n",
       "      <td>37.000000</td>\n",
       "      <td>3.6</td>\n",
       "      <td>3577.176197</td>\n",
       "      <td>694611.0</td>\n",
       "      <td>1.200000</td>\n",
       "      <td>1.100000</td>\n",
       "      <td>0.554</td>\n",
       "      <td>8.4</td>\n",
       "    </tr>\n",
       "    <tr>\n",
       "      <th>2734</th>\n",
       "      <td>Ukraine</td>\n",
       "      <td>2011-01-01</td>\n",
       "      <td>Developing</td>\n",
       "      <td>75.0</td>\n",
       "      <td>24.0</td>\n",
       "      <td>5</td>\n",
       "      <td>8.480000</td>\n",
       "      <td>415.162771</td>\n",
       "      <td>21.000000</td>\n",
       "      <td>1333</td>\n",
       "      <td>...</td>\n",
       "      <td>54.000000</td>\n",
       "      <td>6.98000</td>\n",
       "      <td>5.000000</td>\n",
       "      <td>0.2</td>\n",
       "      <td>3569.757270</td>\n",
       "      <td>45761.0</td>\n",
       "      <td>2.400000</td>\n",
       "      <td>2.500000</td>\n",
       "      <td>0.734</td>\n",
       "      <td>14.9</td>\n",
       "    </tr>\n",
       "  </tbody>\n",
       "</table>\n",
       "<p>10 rows × 22 columns</p>\n",
       "</div>"
      ],
      "text/plain": [
       "                Country       Year      Status  Life expectancy  \\\n",
       "1190              India 2011-01-01  Developing             66.8   \n",
       "486            Cameroon 2009-01-01  Developing             54.8   \n",
       "1697             Mexico 2001-01-01  Developing             75.0   \n",
       "2424        South Sudan 2000-01-01  Developing             48.9   \n",
       "568               China 2007-01-01  Developing             74.4   \n",
       "1480            Lesotho 2009-01-01  Developing             49.4   \n",
       "2039             Poland 2015-01-01   Developed             77.5   \n",
       "1878              Niger 2014-01-01  Developing             61.4   \n",
       "846   Equatorial Guinea 2003-01-01  Developing             53.8   \n",
       "2734            Ukraine 2011-01-01  Developing             75.0   \n",
       "\n",
       "      Adult Mortality  infant deaths   Alcohol  percentage expenditure  \\\n",
       "1190            193.0           1100  3.000000               64.605901   \n",
       "486             373.0             54  5.890000                9.042541   \n",
       "1697            126.0             52  4.860000               13.311095   \n",
       "2424             38.0             31  4.602861                0.000000   \n",
       "568              96.0            285  3.880000              312.662482   \n",
       "1480            566.0              4  2.750000              104.314473   \n",
       "2039            117.0              2  4.602861                0.000000   \n",
       "1878            223.0             49  0.010000                3.304040   \n",
       "846             334.0              3  7.130000              309.783459   \n",
       "2734             24.0              5  8.480000              415.162771   \n",
       "\n",
       "      Hepatitis B  Measles  ...      Polio  Total expenditure  Diphtheria  \\\n",
       "1190    44.000000    33634  ...  79.000000            4.33000   82.000000   \n",
       "486      8.000000      251  ...  79.000000            5.70000    8.000000   \n",
       "1697    97.000000        3  ...  97.000000            5.35000   97.000000   \n",
       "2424    80.940461        0  ...  82.550188            5.93819   82.324084   \n",
       "568     92.000000   109023  ...  94.000000            4.32000   93.000000   \n",
       "1480    91.000000        0  ...  89.000000            9.80000   91.000000   \n",
       "2039    96.000000        0  ...  92.000000            5.93819   98.000000   \n",
       "1878    68.000000     1142  ...  67.000000            5.82000   68.000000   \n",
       "846     80.940461       18  ...  46.000000            2.23000   37.000000   \n",
       "2734    21.000000     1333  ...  54.000000            6.98000    5.000000   \n",
       "\n",
       "      HIV/AIDS           GDP   Population  thinness 1-19 years  \\\n",
       "1190       0.2   1461.671957  124723629.0            26.900000   \n",
       "486        6.3    123.195380   19432541.0             6.300000   \n",
       "1697       0.1    731.378864     136768.0             1.900000   \n",
       "2424       2.7   7483.158469      67656.0             4.839704   \n",
       "568        0.1   2695.366223    1317885.0             4.700000   \n",
       "1480      18.2    923.136931      21929.0             7.600000   \n",
       "2039       0.1  12565.987600   37986412.0             1.900000   \n",
       "1878       0.5     43.646498   19148219.0             9.800000   \n",
       "846        3.6   3577.176197     694611.0             1.200000   \n",
       "2734       0.2   3569.757270      45761.0             2.400000   \n",
       "\n",
       "      thinness 5-9 years  Income composition of resources  Schooling  \n",
       "1190           27.700000                            0.580       10.8  \n",
       "486             6.300000                            0.473        9.2  \n",
       "1697            1.900000                            0.700       11.6  \n",
       "2424            4.870317                            0.000        0.0  \n",
       "568             4.100000                            0.659       11.4  \n",
       "1480            7.400000                            0.453       10.8  \n",
       "2039            2.000000                            0.852       16.4  \n",
       "1878            9.600000                            0.345        5.3  \n",
       "846             1.100000                            0.554        8.4  \n",
       "2734            2.500000                            0.734       14.9  \n",
       "\n",
       "[10 rows x 22 columns]"
      ]
     },
     "execution_count": 225,
     "metadata": {},
     "output_type": "execute_result"
    }
   ],
   "source": [
    "df = pd.read_csv('LE_cleaned_data.csv')\n",
    "df['Year'] = pd.to_datetime(df['Year'], format='%Y')\n",
    "df.sample(10)"
   ]
  },
  {
   "attachments": {},
   "cell_type": "markdown",
   "metadata": {},
   "source": [
    "# Analysis"
   ]
  },
  {
   "attachments": {},
   "cell_type": "markdown",
   "metadata": {},
   "source": [
    "## Tuổi thọ có tính ổn định thống kê (H1) hay không (Stationarity)?"
   ]
  },
  {
   "cell_type": "code",
   "execution_count": 226,
   "metadata": {},
   "outputs": [
    {
     "data": {
      "text/plain": [
       "<AxesSubplot:xlabel='Year'>"
      ]
     },
     "execution_count": 226,
     "metadata": {},
     "output_type": "execute_result"
    },
    {
     "data": {
      "image/png": "[encoded data removed]",
      "text/plain": [
       "<Figure size 720x360 with 1 Axes>"
      ]
     },
     "metadata": {
      "needs_background": "light"
     },
     "output_type": "display_data"
    }
   ],
   "source": [
    "df.loc[df.Country == 'Viet Nam']\n",
    "time = df.pivot(index='Year', columns='Country', values='Life expectancy')\n",
    "vn = time['Viet Nam']\n",
    "vn.plot(kind='line', figsize=(10, 5))"
   ]
  },
  {
   "cell_type": "code",
   "execution_count": 227,
   "metadata": {},
   "outputs": [
    {
     "name": "stdout",
     "output_type": "stream",
     "text": [
      "P-value:  0.5180114060633305\n"
     ]
    }
   ],
   "source": [
    "test = vn.reset_index()\n",
    "df_station = adfuller(test['Viet Nam'], autolag='AIC')\n",
    "print('P-value: ', df_station[1])"
   ]
  },
  {
   "attachments": {},
   "cell_type": "markdown",
   "metadata": {},
   "source": [
    "Với giá trị p-value > 0.05, ta bác bỏ H1, nên dữ liệu không có tính ổn định thống kê theo thời gian."
   ]
  },
  {
   "cell_type": "code",
   "execution_count": 228,
   "metadata": {},
   "outputs": [],
   "source": [
    "time = time.T"
   ]
  },
  {
   "cell_type": "code",
   "execution_count": 229,
   "metadata": {},
   "outputs": [
    {
     "data": {
      "image/png": "[encoded data removed]",
      "text/plain": [
       "<Figure size 1440x720 with 1 Axes>"
      ]
     },
     "metadata": {
      "needs_background": "light"
     },
     "output_type": "display_data"
    }
   ],
   "source": [
    "world = time.describe().round(2)\n",
    "world = world.loc[world.index == 'mean']\n",
    "world = world.T.rename({'mean': 'World'}, axis=1)\n",
    "merged = world.reset_index().merge(vn.reset_index(),left_on = 'Year', right_on = 'Year', how = 'inner')\n",
    "merged.set_index('Year', inplace=True)\n",
    "merged.plot(kind='line', figsize=(20, 10), title='World and Viet Nam Life Expectancy');"
   ]
  },
  {
   "attachments": {},
   "cell_type": "markdown",
   "metadata": {},
   "source": [
    "Kết luận:\n",
    "- Dữ liệu có xu thế tăng theo thời gian.\n",
    "- Dữ liệu không có tính ổn định thống kê theo thời gian."
   ]
  },
  {
   "attachments": {},
   "cell_type": "markdown",
   "metadata": {},
   "source": [
    "## Phân tích yếu tố chu kỳ (Cycling)"
   ]
  },
  {
   "attachments": {},
   "cell_type": "markdown",
   "metadata": {},
   "source": [
    "Tuổi thọ có yếu tố chu kỳ không?"
   ]
  },
  {
   "cell_type": "code",
   "execution_count": 218,
   "metadata": {},
   "outputs": [
    {
     "data": {
      "image/png": "[encoded data removed]",
      "text/plain": [
       "<Figure size 720x432 with 1 Axes>"
      ]
     },
     "metadata": {
      "needs_background": "light"
     },
     "output_type": "display_data"
    }
   ],
   "source": [
    "acf_cal = world.reset_index().rename(columns={'World':'Life Expectancy'})\n",
    "mpl.rc(\"figure\", figsize=(10, 6))\n",
    "plot_acf(acf_cal[\"Life Expectancy\"], lags = 15);"
   ]
  },
  {
   "cell_type": "code",
   "execution_count": 219,
   "metadata": {},
   "outputs": [
    {
     "data": {
      "image/png": "[encoded data removed]",
      "text/plain": [
       "<Figure size 720x432 with 1 Axes>"
      ]
     },
     "metadata": {
      "needs_background": "light"
     },
     "output_type": "display_data"
    }
   ],
   "source": [
    "plot_pacf(acf_cal[\"Life Expectancy\"], lags = 7, method='ywm');"
   ]
  },
  {
   "attachments": {},
   "cell_type": "markdown",
   "metadata": {},
   "source": [
    "Kiểm định Durbin-Watson cho sự tự tương quan."
   ]
  },
  {
   "cell_type": "code",
   "execution_count": 230,
   "metadata": {},
   "outputs": [
    {
     "data": {
      "text/plain": [
       "2.5885519199508616e-05"
      ]
     },
     "execution_count": 230,
     "metadata": {},
     "output_type": "execute_result"
    }
   ],
   "source": [
    "gfg = durbin_watson(acf_cal[\"Life Expectancy\"])\n",
    "gfg"
   ]
  },
  {
   "attachments": {},
   "cell_type": "markdown",
   "metadata": {},
   "source": [
    "Kết luận: \n",
    "- tuổi thọ không có yếu tố chu kỳ hay mùa vụ(ít nhất trên tập dữ liệu này).\n",
    "- Tuổi thọ có sự tự tương quan dương."
   ]
  },
  {
   "attachments": {},
   "cell_type": "markdown",
   "metadata": {},
   "source": [
    "## Loại bỏ xu thế (Detrend)"
   ]
  },
  {
   "cell_type": "code",
   "execution_count": 231,
   "metadata": {},
   "outputs": [
    {
     "data": {
      "image/png": "[encoded data removed]",
      "text/plain": [
       "<Figure size 720x432 with 1 Axes>"
      ]
     },
     "metadata": {
      "needs_background": "light"
     },
     "output_type": "display_data"
    }
   ],
   "source": [
    "temp = world.reset_index().rename(columns={'World':'Life Expectancy'})\n",
    "\n",
    "detr = signal.detrend(temp['Life Expectancy'])\n",
    "detr = pd.DataFrame({'LE detrend':detr},index = world.index)\n",
    "\n",
    "temp.set_index('Year', inplace=True)\n",
    "plt.figure(figsize=(10, 6))\n",
    "plt.plot(temp[\"Life Expectancy\"], label=temp.columns[0])\n",
    "plt.plot(detr, label=detr.columns[0])\n",
    "plt.xticks(rotation=45)\n",
    "plt.xlabel(\"Time\", fontsize=12)\n",
    "plt.ylabel(\"Life Expentancy\", fontsize=12)\n",
    "plt.legend(fontsize=12)\n",
    "plt.title(\"Life Expectancy from 2000 to 2015\", fontsize=18)\n",
    "plt.show()"
   ]
  },
  {
   "attachments": {},
   "cell_type": "markdown",
   "metadata": {},
   "source": [
    "## Phân rã mùa vụ (Decompose)"
   ]
  },
  {
   "attachments": {},
   "cell_type": "markdown",
   "metadata": {},
   "source": [
    "Vì không có yếu tố mùa vụ nên kh biết nên đưa vô kh nữa :v"
   ]
  },
  {
   "cell_type": "code",
   "execution_count": 196,
   "metadata": {},
   "outputs": [],
   "source": [
    "# from statsmodels.tsa.seasonal import seasonal_decompose\n",
    "\n",
    "# temp = temp.reset_index()\n",
    "# temp['Year'] = pd.to_datetime(temp['Year'], format='%Y')\n",
    "# temp = temp.set_index('Year')\n",
    "# temp\n",
    "# result = seasonal_decompose(temp['Life Expectancy'], model='additive')\n",
    "# result.plot()\n",
    "# plt.show()"
   ]
  },
  {
   "attachments": {},
   "cell_type": "markdown",
   "metadata": {},
   "source": [
    "# Autoregression Model (AR)"
   ]
  },
  {
   "attachments": {},
   "cell_type": "markdown",
   "metadata": {},
   "source": [
    "Thực hiện mô hình, dựa trên yếu tố xu thế, nhóm em nhận thấy có thể triển khai thử mô hình AR(1) để dự đoán tuổi thọ. Về mặt ý nghĩa, mô hình AR(1) tương tự như mô hình hồi quy tuyến tính. Tuy nhiên, mô hình AR(1) có thêm yếu tố tự tương quan giữa các giá trị quan sát liền trước và liền sau để có thể dự đoán cho năm tiếp theo."
   ]
  },
  {
   "attachments": {},
   "cell_type": "markdown",
   "metadata": {},
   "source": [
    "\\begin{equation}\n",
    "x_t = \\theta_0 + \\theta_1 x_{t-1} + \\theta_2 x_{t-2}+ ... + \\epsilon_t\n",
    "\\end{equation}\n",
    "\n",
    "với t là thời gian, $\\theta$ là hệ số hồi quy, $\\epsilon$ là nhiễu."
   ]
  },
  {
   "cell_type": "code",
   "execution_count": 232,
   "metadata": {},
   "outputs": [
    {
     "data": {
      "text/html": [
       "<div>\n",
       "<style scoped>\n",
       "    .dataframe tbody tr th:only-of-type {\n",
       "        vertical-align: middle;\n",
       "    }\n",
       "\n",
       "    .dataframe tbody tr th {\n",
       "        vertical-align: top;\n",
       "    }\n",
       "\n",
       "    .dataframe thead th {\n",
       "        text-align: right;\n",
       "    }\n",
       "</style>\n",
       "<table border=\"1\" class=\"dataframe\">\n",
       "  <thead>\n",
       "    <tr style=\"text-align: right;\">\n",
       "      <th></th>\n",
       "      <th>World</th>\n",
       "    </tr>\n",
       "    <tr>\n",
       "      <th>Year</th>\n",
       "      <th></th>\n",
       "    </tr>\n",
       "  </thead>\n",
       "  <tbody>\n",
       "    <tr>\n",
       "      <th>2000-01-01</th>\n",
       "      <td>66.75</td>\n",
       "    </tr>\n",
       "    <tr>\n",
       "      <th>2001-01-01</th>\n",
       "      <td>67.13</td>\n",
       "    </tr>\n",
       "    <tr>\n",
       "      <th>2002-01-01</th>\n",
       "      <td>67.35</td>\n",
       "    </tr>\n",
       "    <tr>\n",
       "      <th>2003-01-01</th>\n",
       "      <td>67.43</td>\n",
       "    </tr>\n",
       "    <tr>\n",
       "      <th>2004-01-01</th>\n",
       "      <td>67.65</td>\n",
       "    </tr>\n",
       "    <tr>\n",
       "      <th>2005-01-01</th>\n",
       "      <td>68.21</td>\n",
       "    </tr>\n",
       "    <tr>\n",
       "      <th>2006-01-01</th>\n",
       "      <td>68.67</td>\n",
       "    </tr>\n",
       "    <tr>\n",
       "      <th>2007-01-01</th>\n",
       "      <td>69.04</td>\n",
       "    </tr>\n",
       "    <tr>\n",
       "      <th>2008-01-01</th>\n",
       "      <td>69.43</td>\n",
       "    </tr>\n",
       "    <tr>\n",
       "      <th>2009-01-01</th>\n",
       "      <td>69.94</td>\n",
       "    </tr>\n",
       "    <tr>\n",
       "      <th>2010-01-01</th>\n",
       "      <td>70.05</td>\n",
       "    </tr>\n",
       "    <tr>\n",
       "      <th>2011-01-01</th>\n",
       "      <td>70.65</td>\n",
       "    </tr>\n",
       "    <tr>\n",
       "      <th>2012-01-01</th>\n",
       "      <td>70.92</td>\n",
       "    </tr>\n",
       "    <tr>\n",
       "      <th>2013-01-01</th>\n",
       "      <td>71.13</td>\n",
       "    </tr>\n",
       "    <tr>\n",
       "      <th>2014-01-01</th>\n",
       "      <td>71.54</td>\n",
       "    </tr>\n",
       "    <tr>\n",
       "      <th>2015-01-01</th>\n",
       "      <td>71.62</td>\n",
       "    </tr>\n",
       "  </tbody>\n",
       "</table>\n",
       "</div>"
      ],
      "text/plain": [
       "            World\n",
       "Year             \n",
       "2000-01-01  66.75\n",
       "2001-01-01  67.13\n",
       "2002-01-01  67.35\n",
       "2003-01-01  67.43\n",
       "2004-01-01  67.65\n",
       "2005-01-01  68.21\n",
       "2006-01-01  68.67\n",
       "2007-01-01  69.04\n",
       "2008-01-01  69.43\n",
       "2009-01-01  69.94\n",
       "2010-01-01  70.05\n",
       "2011-01-01  70.65\n",
       "2012-01-01  70.92\n",
       "2013-01-01  71.13\n",
       "2014-01-01  71.54\n",
       "2015-01-01  71.62"
      ]
     },
     "execution_count": 232,
     "metadata": {},
     "output_type": "execute_result"
    }
   ],
   "source": [
    "world"
   ]
  },
  {
   "cell_type": "code",
   "execution_count": 233,
   "metadata": {},
   "outputs": [
    {
     "name": "stdout",
     "output_type": "stream",
     "text": [
      "                            AutoReg Model Results                             \n",
      "==============================================================================\n",
      "Dep. Variable:                  World   No. Observations:                   12\n",
      "Model:                     AutoReg(1)   Log Likelihood                   4.471\n",
      "Method:               Conditional MLE   S.D. of innovations              0.161\n",
      "Date:                Wed, 17 May 2023   AIC                             -2.941\n",
      "Time:                        17:04:43   BIC                             -1.747\n",
      "Sample:                    01-01-2001   HQIC                            -3.693\n",
      "                         - 01-01-2011                                         \n",
      "==============================================================================\n",
      "                 coef    std err          z      P>|z|      [0.025      0.975]\n",
      "------------------------------------------------------------------------------\n",
      "const         -2.6123      2.991     -0.874      0.382      -8.474       3.249\n",
      "World.L1       1.0434      0.044     23.844      0.000       0.958       1.129\n",
      "                                    Roots                                    \n",
      "=============================================================================\n",
      "                  Real          Imaginary           Modulus         Frequency\n",
      "-----------------------------------------------------------------------------\n",
      "AR.1            0.9584           +0.0000j            0.9584            0.0000\n",
      "-----------------------------------------------------------------------------\n"
     ]
    }
   ],
   "source": [
    "world.index = pd.DatetimeIndex(world.index.values, freq=world.index.inferred_freq)\n",
    "train, test = train_test_split(world, test_size=0.2, shuffle=False)\n",
    "\n",
    "ar_model = AutoReg(train, lags=1).fit()\n",
    "print(ar_model.summary())"
   ]
  },
  {
   "cell_type": "code",
   "execution_count": 235,
   "metadata": {},
   "outputs": [
    {
     "data": {
      "image/png": "[encoded data removed]",
      "text/plain": [
       "<Figure size 720x432 with 1 Axes>"
      ]
     },
     "metadata": {
      "needs_background": "light"
     },
     "output_type": "display_data"
    }
   ],
   "source": [
    "pred = ar_model.predict(start = len(train), end = (len(world)-1));\n",
    "pred = pd.DataFrame({'World predicted': pred.values}, index = test.index)\n",
    "\n",
    "# merge_pred = pd.concat([train, pred], axis=0).rename(columns={'World':'World predicted'})\n",
    "comp = pd.concat([test, pred], axis=1)\n",
    "comp.plot(kind='line');"
   ]
  },
  {
   "attachments": {},
   "cell_type": "markdown",
   "metadata": {},
   "source": [
    "Độ lỗi của AR(1) trên tập test"
   ]
  },
  {
   "cell_type": "code",
   "execution_count": 237,
   "metadata": {},
   "outputs": [
    {
     "name": "stdout",
     "output_type": "stream",
     "text": [
      "MSE:  0.36758960734159785\n"
     ]
    }
   ],
   "source": [
    "print('MSE: ', mean_squared_error(test, pred))"
   ]
  },
  {
   "attachments": {},
   "cell_type": "markdown",
   "metadata": {},
   "source": [
    "Dựa trên kết quả MSE, ta có thể sử dụng AR(1) model để dự đoán tuổi thọ."
   ]
  },
  {
   "attachments": {},
   "cell_type": "markdown",
   "metadata": {},
   "source": [
    "## Dự đoán kết quả trên thế giới vào năm 2016 và 2017"
   ]
  },
  {
   "cell_type": "code",
   "execution_count": 238,
   "metadata": {},
   "outputs": [],
   "source": [
    "ar_model = AutoReg(world, lags=1).fit()"
   ]
  },
  {
   "cell_type": "code",
   "execution_count": 239,
   "metadata": {},
   "outputs": [
    {
     "data": {
      "image/png": "[encoded data removed]",
      "text/plain": [
       "<Figure size 720x432 with 1 Axes>"
      ]
     },
     "metadata": {
      "needs_background": "light"
     },
     "output_type": "display_data"
    }
   ],
   "source": [
    "pred = ar_model.predict(start = len(world), end = (len(world)+1));\n",
    "ar_model.plot_predict(start = 1, end = (len(world)+1), dynamic=False);"
   ]
  },
  {
   "cell_type": "code",
   "execution_count": 240,
   "metadata": {},
   "outputs": [
    {
     "data": {
      "text/plain": [
       "2016-01-01    71.917447\n",
       "2017-01-01    72.211733\n",
       "Freq: AS-JAN, dtype: float64"
      ]
     },
     "execution_count": 240,
     "metadata": {},
     "output_type": "execute_result"
    }
   ],
   "source": [
    "pred"
   ]
  },
  {
   "attachments": {},
   "cell_type": "markdown",
   "metadata": {},
   "source": [
    "Kết quả dự đoán trung bình tuổi thọ trên toàn thế giới vào năm 2016 là 71.91 tuổi, vào năm 2017 là 72.21 tuổi. Với độ trễ là 1."
   ]
  },
  {
   "attachments": {},
   "cell_type": "markdown",
   "metadata": {},
   "source": [
    "## Dự đoán tuổi cho Việt Nam vào năm 2016 và 2017"
   ]
  },
  {
   "cell_type": "code",
   "execution_count": 244,
   "metadata": {},
   "outputs": [],
   "source": [
    "vn.index = pd.DatetimeIndex(vn.index.values, freq=vn.index.inferred_freq)"
   ]
  },
  {
   "cell_type": "code",
   "execution_count": 245,
   "metadata": {},
   "outputs": [
    {
     "data": {
      "image/png": "[encoded data removed]",
      "text/plain": [
       "<Figure size 720x432 with 1 Axes>"
      ]
     },
     "metadata": {
      "needs_background": "light"
     },
     "output_type": "display_data"
    }
   ],
   "source": [
    "ar_model = AutoReg(vn, lags=1).fit()\n",
    "pred_vn = ar_model.predict(start = len(vn), end = (len(vn)+1));\n",
    "ar_model.plot_predict(start = 1, end = (len(vn)+1), dynamic=False);"
   ]
  },
  {
   "cell_type": "code",
   "execution_count": 246,
   "metadata": {},
   "outputs": [
    {
     "data": {
      "text/plain": [
       "2016-01-01    76.139772\n",
       "2017-01-01    76.275955\n",
       "Freq: AS-JAN, dtype: float64"
      ]
     },
     "execution_count": 246,
     "metadata": {},
     "output_type": "execute_result"
    }
   ],
   "source": [
    "pred_vn"
   ]
  },
  {
   "attachments": {},
   "cell_type": "markdown",
   "metadata": {},
   "source": [
    "Dự đoán tuổi thọ cho Việt Nam năm 2016 là 76.14 tuổi và 2017 là 76.28 tuổi."
   ]
  },
  {
   "attachments": {},
   "cell_type": "markdown",
   "metadata": {},
   "source": [
    "Nhận xét: Có thể thấy tuổi thọ Việt Nam cao hơn so với tuổi thọ trung bình trên toàn thế giới."
   ]
  }
 ],
 "metadata": {
  "kernelspec": {
   "display_name": "base",
   "language": "python",
   "name": "python3"
  },
  "language_info": {
   "codemirror_mode": {
    "name": "ipython",
    "version": 3
   },
   "file_extension": ".py",
   "mimetype": "text/x-python",
   "name": "python",
   "nbconvert_exporter": "python",
   "pygments_lexer": "ipython3",
   "version": "3.9.12"
  },
  "orig_nbformat": 4
 },
 "nbformat": 4,
 "nbformat_minor": 2
}
